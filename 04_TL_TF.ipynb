{
  "cells": [
    {
      "cell_type": "markdown",
      "metadata": {
        "id": "view-in-github",
        "colab_type": "text"
      },
      "source": [
        "<a href=\"https://colab.research.google.com/github/amal-babu-git/TransferLearning-colab-notes/blob/main/04_TL_TF.ipynb\" target=\"_parent\"><img src=\"https://colab.research.google.com/assets/colab-badge.svg\" alt=\"Open In Colab\"/></a>"
      ]
    },
    {
      "cell_type": "markdown",
      "metadata": {
        "id": "r-etQ2rmAX2r"
      },
      "source": [
        "#Transfer learning 01:Feature extraction"
      ]
    },
    {
      "cell_type": "code",
      "execution_count": null,
      "metadata": {
        "colab": {
          "base_uri": "https://localhost:8080/"
        },
        "id": "1yWLSGEHcSp8",
        "outputId": "4e1e1eb2-5c9a-44fc-989a-f12cf43bc1cc"
      },
      "outputs": [
        {
          "output_type": "stream",
          "name": "stdout",
          "text": [
            "/bin/bash: nvidia-smi: command not found\n"
          ]
        }
      ],
      "source": [
        "!nvidia-smi"
      ]
    },
    {
      "cell_type": "code",
      "execution_count": null,
      "metadata": {
        "colab": {
          "base_uri": "https://localhost:8080/"
        },
        "id": "4qaJBZL8lSSW",
        "outputId": "f275b2fa-53c9-4360-b384-6ef9c2258614"
      },
      "outputs": [
        {
          "output_type": "stream",
          "name": "stdout",
          "text": [
            "--2022-02-10 08:14:40--  https://storage.googleapis.com/ztm_tf_course/food_vision/10_food_classes_10_percent.zip\n",
            "Resolving storage.googleapis.com (storage.googleapis.com)... 108.177.97.128, 108.177.125.128, 142.250.157.128, ...\n",
            "Connecting to storage.googleapis.com (storage.googleapis.com)|108.177.97.128|:443... connected.\n",
            "HTTP request sent, awaiting response... 200 OK\n",
            "Length: 168546183 (161M) [application/zip]\n",
            "Saving to: ‘10_food_classes_10_percent.zip’\n",
            "\n",
            "10_food_classes_10_ 100%[===================>] 160.74M  46.7MB/s    in 3.4s    \n",
            "\n",
            "2022-02-10 08:14:44 (46.7 MB/s) - ‘10_food_classes_10_percent.zip’ saved [168546183/168546183]\n",
            "\n"
          ]
        }
      ],
      "source": [
        "import zipfile\n",
        "!wget https://storage.googleapis.com/ztm_tf_course/food_vision/10_food_classes_10_percent.zip\n",
        "\n",
        "# unzip the file\n",
        "zip_ref = zipfile.ZipFile(\"10_food_classes_10_percent.zip\", \"r\")\n",
        "zip_ref.extractall()\n",
        "zip_ref.close()\n"
      ]
    },
    {
      "cell_type": "code",
      "execution_count": null,
      "metadata": {
        "colab": {
          "base_uri": "https://localhost:8080/"
        },
        "id": "JK0v3oClBE_U",
        "outputId": "0fc8d7c5-e105-448b-ed43-b8a60e0f5a32"
      },
      "outputs": [
        {
          "output_type": "stream",
          "name": "stdout",
          "text": [
            "There are 2 directories and 0 images in '10_food_classes_10_percent'.\n",
            "There are 10 directories and 0 images in '10_food_classes_10_percent/train'.\n",
            "There are 0 directories and 75 images in '10_food_classes_10_percent/train/hamburger'.\n",
            "There are 0 directories and 75 images in '10_food_classes_10_percent/train/chicken_curry'.\n",
            "There are 0 directories and 75 images in '10_food_classes_10_percent/train/pizza'.\n",
            "There are 0 directories and 75 images in '10_food_classes_10_percent/train/grilled_salmon'.\n",
            "There are 0 directories and 75 images in '10_food_classes_10_percent/train/chicken_wings'.\n",
            "There are 0 directories and 75 images in '10_food_classes_10_percent/train/fried_rice'.\n",
            "There are 0 directories and 75 images in '10_food_classes_10_percent/train/steak'.\n",
            "There are 0 directories and 75 images in '10_food_classes_10_percent/train/ice_cream'.\n",
            "There are 0 directories and 75 images in '10_food_classes_10_percent/train/sushi'.\n",
            "There are 0 directories and 75 images in '10_food_classes_10_percent/train/ramen'.\n",
            "There are 10 directories and 0 images in '10_food_classes_10_percent/test'.\n",
            "There are 0 directories and 250 images in '10_food_classes_10_percent/test/hamburger'.\n",
            "There are 0 directories and 250 images in '10_food_classes_10_percent/test/chicken_curry'.\n",
            "There are 0 directories and 250 images in '10_food_classes_10_percent/test/pizza'.\n",
            "There are 0 directories and 250 images in '10_food_classes_10_percent/test/grilled_salmon'.\n",
            "There are 0 directories and 250 images in '10_food_classes_10_percent/test/chicken_wings'.\n",
            "There are 0 directories and 250 images in '10_food_classes_10_percent/test/fried_rice'.\n",
            "There are 0 directories and 250 images in '10_food_classes_10_percent/test/steak'.\n",
            "There are 0 directories and 250 images in '10_food_classes_10_percent/test/ice_cream'.\n",
            "There are 0 directories and 250 images in '10_food_classes_10_percent/test/sushi'.\n",
            "There are 0 directories and 250 images in '10_food_classes_10_percent/test/ramen'.\n"
          ]
        }
      ],
      "source": [
        "# How many images in each folder?\n",
        "import os\n",
        "\n",
        "# Walk through 10 percent data directory and list number of files\n",
        "for dirpath, dirnames, filenames in os.walk(\"10_food_classes_10_percent\"):\n",
        "  print(f\"There are {len(dirnames)} directories and {len(filenames)} images in '{dirpath}'.\")"
      ]
    },
    {
      "cell_type": "code",
      "execution_count": null,
      "metadata": {
        "colab": {
          "base_uri": "https://localhost:8080/"
        },
        "id": "ibIwodxuCECH",
        "outputId": "fa547ec5-85fc-41bb-ed5b-7168b9d93664"
      },
      "outputs": [
        {
          "output_type": "stream",
          "name": "stdout",
          "text": [
            "Training images\n",
            "Found 750 images belonging to 10 classes.\n",
            "Testing data\n",
            "Found 2500 images belonging to 10 classes.\n"
          ]
        }
      ],
      "source": [
        "# preprocess the data\n",
        "import tensorflow as tf\n",
        "from tensorflow.keras.preprocessing.image import ImageDataGenerator\n",
        "\n",
        "IMAGE_SHAPE=(224,224)\n",
        "BATH_SIZE=32\n",
        "\n",
        "train_dir = \"10_food_classes_10_percent/train/\"\n",
        "test_dir = \"10_food_classes_10_percent/test/\"\n",
        "\n",
        "train_datagen=ImageDataGenerator(rescale=1/255.)\n",
        "test_datagen=ImageDataGenerator(rescale=1/255.)\n",
        "\n",
        "print(\"Training images\")\n",
        "train_data_10_percent=train_datagen.flow_from_directory(train_dir,\n",
        "                                                        target_size=IMAGE_SHAPE,\n",
        "                                                        batch_size=BATH_SIZE,\n",
        "                                                        class_mode=\"categorical\")\n",
        "print(\"Testing data\")\n",
        "test_data=test_datagen.flow_from_directory(test_dir,\n",
        "                                           target_size=IMAGE_SHAPE,\n",
        "                                           batch_size=BATH_SIZE,\n",
        "                                           class_mode=\"categorical\")"
      ]
    },
    {
      "cell_type": "code",
      "execution_count": null,
      "metadata": {
        "id": "YLyDlYPHDz_W"
      },
      "outputs": [],
      "source": [
        "import datetime\n",
        "def create_tensorbord_callback(dir_name,experiment_name):\n",
        "  log_dir=dir_name+\"/\"+experiment_name+\"/\"+datetime.datetime.now().strftime(\"%Y%m%d-%H%M%S\")\n",
        "  tensorbord_callback=tf.keras.callbacks.TensorBoard(\n",
        "      log_dir=log_dir\n",
        "  )\n",
        "  print(f\"Saving tensorbord log file to : {log_dir}\")\n",
        "  return tensorbord_callback\n"
      ]
    },
    {
      "cell_type": "code",
      "source": [
        "import tensorflow_hub as hub\n",
        "from tensorflow.keras import layers"
      ],
      "metadata": {
        "id": "mazTLDyHZ2Ht"
      },
      "execution_count": null,
      "outputs": []
    },
    {
      "cell_type": "code",
      "source": [
        "efficientnet_url=\"https://tfhub.dev/tensorflow/efficientnet/b0/feature-vector/1\"\n",
        "resnet_url=\"https://tfhub.dev/google/imagenet/resnet_v2_50/feature_vector/5\""
      ],
      "metadata": {
        "id": "PVxgZktoitEY"
      },
      "execution_count": null,
      "outputs": []
    },
    {
      "cell_type": "code",
      "source": [
        "def create_model(model_url,num_classes=10):\n",
        "  \"\"\"\n",
        "  This function takes a TensorFlow Hub URL and create a keras sequential model\n",
        "  with it.\n",
        "  Args:\n",
        "        model_url(str) : A TensorFlow Hub feature extraction url\n",
        "        num_classes(int) : Number of output neurons in output layer,\n",
        "        should be equal to the number of target classes, default 10.\n",
        "  Returns:\n",
        "        An uncomiled keras sequential model\n",
        "  \"\"\"\n",
        "  #Download the pre trained model and save it as keras layer\n",
        "  feature_extractor_layer=hub.KerasLayer(model_url,\n",
        "                                         trainable=False,#freeze the underlying patterns\n",
        "                                         input_shape=IMAGE_SHAPE+(3,),\n",
        "                                         name=\"feature_extraction_layer\")\n",
        "  #create our own model\n",
        "  model=tf.keras.Sequential(\n",
        "      [\n",
        "       feature_extractor_layer,\n",
        "       layers.Dense(num_classes,activation=\"softmax\",name=\"output_layer\")\n",
        "      ]\n",
        "  )\n",
        "  \n",
        "  return model"
      ],
      "metadata": {
        "id": "HWu9gmXXjK7Y"
      },
      "execution_count": null,
      "outputs": []
    },
    {
      "cell_type": "code",
      "source": [
        "# create model\n",
        "resnet_model=create_model(resnet_url,num_classes=10)\n",
        "# compile the model\n",
        "resnet_model.compile(loss=tf.keras.losses.categorical_crossentropy,\n",
        "                     optimizer=tf.keras.optimizers.Adam(),\n",
        "                     metrics=[\"accuracy\"])\n",
        "# fit the model\n",
        "resnet_history=resnet_model.fit(train_data_10_percent,\n",
        "                                epochs=5,\n",
        "                                steps_per_epoch=len(train_data_10_percent),\n",
        "                                validation_data=test_data,\n",
        "                                validation_steps=len(test_data),\n",
        "                                callbacks=[create_tensorbord_callback(\n",
        "                                    dir_name=\"tensorflow_hub\",\n",
        "                                    experiment_name=\"resnetV250\"\n",
        "                                )])"
      ],
      "metadata": {
        "colab": {
          "base_uri": "https://localhost:8080/"
        },
        "id": "vHVoYYPqwEmd",
        "outputId": "6771711b-0a2c-4ac8-f015-d6671e719ebf"
      },
      "execution_count": 10,
      "outputs": [
        {
          "output_type": "stream",
          "name": "stdout",
          "text": [
            "Saving tensorbord log file to : tensorflow_hub/resnetV250/20220210-081457\n",
            "Epoch 1/5\n",
            "24/24 [==============================] - 421s 18s/step - loss: 1.9198 - accuracy: 0.3640 - val_loss: 1.1904 - val_accuracy: 0.6284\n",
            "Epoch 2/5\n",
            "24/24 [==============================] - 416s 18s/step - loss: 0.8915 - accuracy: 0.7400 - val_loss: 0.8424 - val_accuracy: 0.7224\n",
            "Epoch 3/5\n",
            "24/24 [==============================] - 397s 17s/step - loss: 0.6116 - accuracy: 0.8320 - val_loss: 0.7656 - val_accuracy: 0.7448\n",
            "Epoch 4/5\n",
            "24/24 [==============================] - 414s 18s/step - loss: 0.4776 - accuracy: 0.8800 - val_loss: 0.7088 - val_accuracy: 0.7652\n",
            "Epoch 5/5\n",
            "24/24 [==============================] - 413s 18s/step - loss: 0.3732 - accuracy: 0.9160 - val_loss: 0.6877 - val_accuracy: 0.7704\n"
          ]
        }
      ]
    },
    {
      "cell_type": "code",
      "source": [
        "import matplotlib.pyplot as plt\n",
        "\n",
        "def plot_loss_curves(history):\n",
        "  \"\"\"\n",
        "  Args:\n",
        "        history: history object\n",
        "  returns:\n",
        "          separate loss curves for training and validation metrics\n",
        "  \"\"\"\n",
        "  loss=history.history[\"loss\"]\n",
        "  val_loss=history.history[\"val_loss\"]\n",
        "\n",
        "  accuracy=history.history[\"accuracy\"]\n",
        "  val_accuracy=history.history[\"val_accuracy\"]\n",
        "\n",
        "  epochs=range(len(history.history[\"loss\"]))\n",
        "\n",
        "  # plot loss\n",
        "  plt.plot(epochs,loss,label=\"training loss\")\n",
        "  plt.plot(epochs,val_loss,label=\"val_loss\")\n",
        "  plt.title(\"Loss\")\n",
        "  plt.xlabel(\"Epochs\")\n",
        "  plt.legend()\n",
        "\n",
        "  # plot accuracy\n",
        "  plt.figure()\n",
        "  plt.plot(epochs,accuracy,label=\"training_accuracy\")\n",
        "  plt.plot(epochs,val_accuracy,label=\"val_accuracy\")\n",
        "  plt.title(\"Accuraccy\")\n",
        "  plt.xlabel(\"Epocs\")\n",
        "  plt.legend();"
      ],
      "metadata": {
        "id": "iq8AKwafw4zf"
      },
      "execution_count": 11,
      "outputs": []
    },
    {
      "cell_type": "code",
      "source": [
        "plot_loss_curves(resnet_history)"
      ],
      "metadata": {
        "id": "IhP7NIPwE2lX",
        "colab": {
          "base_uri": "https://localhost:8080/",
          "height": 573
        },
        "outputId": "e2cb91ba-1db2-422e-803d-a8b0bb2835f0"
      },
      "execution_count": 12,
      "outputs": [
        {
          "output_type": "display_data",
          "data": {
            "image/png": "[encoded data removed]",
            "text/plain": [
              "<Figure size 432x288 with 1 Axes>"
            ]
          },
          "metadata": {
            "needs_background": "light"
          }
        },
        {
          "output_type": "display_data",
          "data": {
            "image/png": "[encoded data removed]",
            "text/plain": [
              "<Figure size 432x288 with 1 Axes>"
            ]
          },
          "metadata": {
            "needs_background": "light"
          }
        }
      ]
    },
    {
      "cell_type": "code",
      "source": [
        "resnet_model.summary()"
      ],
      "metadata": {
        "id": "FyySkViDHUFf",
        "colab": {
          "base_uri": "https://localhost:8080/"
        },
        "outputId": "714fd42c-c129-4967-c6b3-efdd184d8851"
      },
      "execution_count": 13,
      "outputs": [
        {
          "output_type": "stream",
          "name": "stdout",
          "text": [
            "Model: \"sequential\"\n",
            "_________________________________________________________________\n",
            " Layer (type)                Output Shape              Param #   \n",
            "=================================================================\n",
            " feature_extraction_layer (K  (None, 2048)             23564800  \n",
            " erasLayer)                                                      \n",
            "                                                                 \n",
            " output_layer (Dense)        (None, 10)                20490     \n",
            "                                                                 \n",
            "=================================================================\n",
            "Total params: 23,585,290\n",
            "Trainable params: 20,490\n",
            "Non-trainable params: 23,564,800\n",
            "_________________________________________________________________\n"
          ]
        }
      ]
    },
    {
      "cell_type": "code",
      "source": [
        "# creating efficientnet model\n",
        "efficientnet_model=create_model(model_url=efficientnet_url,\n",
        "                                num_classes=train_data_10_percent.num_classes)\n",
        "# compile the model\n",
        "efficientnet_model.compile(loss=\"categorical_crossentropy\",\n",
        "                           optimizer=tf.keras.optimizers.Adam(),\n",
        "                           metrics=[\"accuracy\"])\n",
        "# fit the efficientnet model\n",
        "efficientnet_history=efficientnet_model.fit(train_data_10_percent,\n",
        "                       epochs=5,\n",
        "                       steps_per_epoch=len(train_data_10_percent),\n",
        "                       validation_data=test_data,\n",
        "                       validation_steps=len(test_data),\n",
        "                       callbacks=[\n",
        "                                  create_tensorbord_callback(dir_name=\"tensorflow_hub\",\n",
        "                                                             experiment_name=\"efficientnetB0\")\n",
        "                       ])"
      ],
      "metadata": {
        "id": "oAJtZkJLHnD0",
        "colab": {
          "base_uri": "https://localhost:8080/"
        },
        "outputId": "6ce3da2e-f3d7-4bba-c1e9-a4f3b1e1088c"
      },
      "execution_count": null,
      "outputs": [
        {
          "output_type": "stream",
          "name": "stdout",
          "text": [
            "Saving tensorbord log file to : tensorflow_hub/efficientnetB0/20220210-085018\n",
            "Epoch 1/5\n",
            "24/24 [==============================] - ETA: 0s - loss: 1.7975 - accuracy: 0.4640"
          ]
        }
      ]
    },
    {
      "cell_type": "code",
      "source": [
        "plot_loss_curves(efficientnet_history)"
      ],
      "metadata": {
        "id": "2dSTuTHpIB8f"
      },
      "execution_count": null,
      "outputs": []
    },
    {
      "cell_type": "code",
      "source": [
        ""
      ],
      "metadata": {
        "id": "n8LetNb-M0DC"
      },
      "execution_count": null,
      "outputs": []
    }
  ],
  "metadata": {
    "accelerator": "GPU",
    "colab": {
      "collapsed_sections": [],
      "name": "04-TL-TF.ipynb",
      "provenance": [],
      "authorship_tag": "ABX9TyPALTUFj95zP59XjLxUojKK",
      "include_colab_link": true
    },
    "kernelspec": {
      "display_name": "Python 3",
      "name": "python3"
    },
    "language_info": {
      "name": "python"
    }
  },
  "nbformat": 4,
  "nbformat_minor": 0
}